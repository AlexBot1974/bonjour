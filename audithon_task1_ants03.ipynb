{
 "cells": [
  {
   "cell_type": "markdown",
   "metadata": {
    "id": "sOijVYVsq7Ca"
   },
   "source": [
    "# Solution EmergencyDataHack 28-30 May. team Bonjour\n",
    "\n",
    "Исп.Бочаров А.М. skype bam271074"
   ]
  },
  {
   "cell_type": "code",
   "execution_count": 1,
   "metadata": {
    "colab": {
     "base_uri": "https://localhost:8080/"
    },
    "id": "DTjI3kdfV70N",
    "outputId": "9871cd6a-899e-41c5-c7cd-6db2f4f0d8bd"
   },
   "outputs": [],
   "source": [
    "#!jupyter labextension install @jupyter-widgets/jupyterlab-manager\n",
    "#!jupyter labextension install jupyter-leaflet\n",
    "#!jupyter nbextension install --py --symlink --sys-prefix ipyleaflet\n",
    "#!jupyter nbextension enable --py --sys-prefix ipyleaflet  # can be skipped for notebook 5.3 and abov\n",
    "#!jupyter lab --watch"
   ]
  },
  {
   "cell_type": "code",
   "execution_count": 19,
   "metadata": {
    "colab": {
     "base_uri": "https://localhost:8080/",
     "height": 641
    },
    "id": "EZxMk2uu9KgF",
    "outputId": "0fa2473b-5a97-4819-f273-6cd7f35ea23e"
   },
   "outputs": [],
   "source": [
    "import pandas as pd\n",
    "import ipyleaflet\n",
    "from ipywidgets import HTML\n",
    "from ipyleaflet import Map, Marker, Popup\n",
    "from ipyleaflet import AntPath, WidgetControl\n",
    "from ipywidgets import IntSlider, jslink\n",
    "import os\n",
    "#from geopy.distance import geodesic\n",
    "\n",
    "#from IPython.display import IFrame\n",
    "#documentation = IFrame(src='https://ipyleaflet.readthedocs.io/en/latest/', width=1000, height=600)\n",
    "#display(documentation)"
   ]
  },
  {
   "cell_type": "code",
   "execution_count": 20,
   "metadata": {
    "id": "7hGh04oiFyMZ"
   },
   "outputs": [
    {
     "data": {
      "text/plain": [
       "['hydro_1day.csv',\n",
       " 'hydro_coord.csv',\n",
       " 'ice_saw.csv',\n",
       " 'meteo_1day.csv',\n",
       " 'meteo_1month.csv',\n",
       " 'meteo_3hours.csv',\n",
       " 'meteo_coord.csv',\n",
       " 'reference_horiz_visib.csv',\n",
       " 'reference_water_codes.csv',\n",
       " 'test.csv',\n",
       " 'train.csv']"
      ]
     },
     "execution_count": 20,
     "metadata": {},
     "output_type": "execute_result"
    }
   ],
   "source": [
    "# Путь к директории с данными\n",
    "data_dir = 'd:/dataset_EH2021_track_1/'\n",
    "os.listdir(data_dir)"
   ]
  },
  {
   "cell_type": "code",
   "execution_count": 21,
   "metadata": {},
   "outputs": [],
   "source": [
    "# Загрузим\n",
    "main_df = pd.read_csv(data_dir + 'train.csv')\n",
    "\n",
    "# Метео\n",
    "mc = pd.read_csv(data_dir + 'meteo_coord.csv')\n",
    "#mld = pd.read_csv(data_dir + 'meteo_1day.csv')\n",
    "#mlm = pd.read_csv(data_dir + 'meteo_1month.csv')\n",
    "#rhv = pd.read_csv(data_dir + 'reference_horiz_visib.csv')\n",
    "\n",
    "# Гидро\n",
    "#hc = pd.read_csv(data_dir + 'hydro_coord.csv')\n",
    "#hld = pd.read_csv(data_dir + 'hydro_1day.csv',\n",
    "#                   parse_dates=['date'])\n",
    "#rwc = pd.read_csv(data_dir + 'reference_water_codes.csv')"
   ]
  },
  {
   "cell_type": "code",
   "execution_count": 22,
   "metadata": {},
   "outputs": [
    {
     "data": {
      "text/html": [
       "<div>\n",
       "<style scoped>\n",
       "    .dataframe tbody tr th:only-of-type {\n",
       "        vertical-align: middle;\n",
       "    }\n",
       "\n",
       "    .dataframe tbody tr th {\n",
       "        vertical-align: top;\n",
       "    }\n",
       "\n",
       "    .dataframe thead th {\n",
       "        text-align: right;\n",
       "    }\n",
       "</style>\n",
       "<table border=\"1\" class=\"dataframe\">\n",
       "  <thead>\n",
       "    <tr style=\"text-align: right;\">\n",
       "      <th></th>\n",
       "      <th>station_id</th>\n",
       "      <th>name</th>\n",
       "      <th>lat</th>\n",
       "      <th>lon</th>\n",
       "      <th>z</th>\n",
       "    </tr>\n",
       "  </thead>\n",
       "  <tbody>\n",
       "    <tr>\n",
       "      <th>25</th>\n",
       "      <td>30328</td>\n",
       "      <td>ОРЛИНГА</td>\n",
       "      <td>56.05</td>\n",
       "      <td>105.83</td>\n",
       "      <td>338.0</td>\n",
       "    </tr>\n",
       "    <tr>\n",
       "      <th>26</th>\n",
       "      <td>30337</td>\n",
       "      <td>КАЗАЧИНСКОЕ</td>\n",
       "      <td>56.32</td>\n",
       "      <td>107.62</td>\n",
       "      <td>355.0</td>\n",
       "    </tr>\n",
       "    <tr>\n",
       "      <th>10</th>\n",
       "      <td>24923</td>\n",
       "      <td>ЛЕНСК - Р.ЛЕНА</td>\n",
       "      <td>60.72</td>\n",
       "      <td>114.88</td>\n",
       "      <td>238.0</td>\n",
       "    </tr>\n",
       "    <tr>\n",
       "      <th>20</th>\n",
       "      <td>30089</td>\n",
       "      <td>ДЖИКИМДА</td>\n",
       "      <td>59.02</td>\n",
       "      <td>121.77</td>\n",
       "      <td>174.0</td>\n",
       "    </tr>\n",
       "    <tr>\n",
       "      <th>19</th>\n",
       "      <td>30069</td>\n",
       "      <td>ПЕРЕВОЗ</td>\n",
       "      <td>59.00</td>\n",
       "      <td>116.91</td>\n",
       "      <td>330.0</td>\n",
       "    </tr>\n",
       "  </tbody>\n",
       "</table>\n",
       "</div>"
      ],
      "text/plain": [
       "    station_id            name    lat     lon      z\n",
       "25       30328         ОРЛИНГА  56.05  105.83  338.0\n",
       "26       30337     КАЗАЧИНСКОЕ  56.32  107.62  355.0\n",
       "10       24923  ЛЕНСК - Р.ЛЕНА  60.72  114.88  238.0\n",
       "20       30089        ДЖИКИМДА  59.02  121.77  174.0\n",
       "19       30069         ПЕРЕВОЗ  59.00  116.91  330.0"
      ]
     },
     "execution_count": 22,
     "metadata": {},
     "output_type": "execute_result"
    }
   ],
   "source": [
    "mc.sample(5)"
   ]
  },
  {
   "cell_type": "code",
   "execution_count": 23,
   "metadata": {},
   "outputs": [],
   "source": [
    "map_Lena=Map(center=(60.85, 120.85), zoom=7)"
   ]
  },
  {
   "cell_type": "code",
   "execution_count": 24,
   "metadata": {},
   "outputs": [],
   "source": [
    "locations_Lena=[\n",
    "    [57.76,108.06],  # Kirensk city\n",
    "    [59.46,112.56],   # Vitim\n",
    "    [60.43,114.54],  #Lensk\n",
    "    [62.01,129.43],  #Yakitsk\n",
    "    [63.55,127.29],  #Sangar city\n",
    "]  #list of lists for coordinates [x,y]\n"
   ]
  },
  {
   "cell_type": "code",
   "execution_count": 25,
   "metadata": {},
   "outputs": [],
   "source": [
    "my_path_Lena=AntPath(\n",
    "    locations=locations_Lena,\n",
    "    dash_array=[1,10],\n",
    "    delay=1000,\n",
    "    color='#9500ff',\n",
    "    pulse_color='#9500ff'\n",
    ")"
   ]
  },
  {
   "cell_type": "code",
   "execution_count": 26,
   "metadata": {},
   "outputs": [
    {
     "data": {
      "text/plain": [
       "Link(source=(IntSlider(value=14, description='Zoom', max=15, min=11), 'value'), target=(Map(center=[60.85, 120…"
      ]
     },
     "metadata": {},
     "output_type": "display_data"
    }
   ],
   "source": [
    "map_Lena.add_layer(my_path_Lena)\n",
    "start_marker=Marker(location=(57.76, 108.06))\n",
    "map_Lena.add_layer(start_marker)\n",
    "finish_marker=Marker(location=(63.55, 127.29))\n",
    "map_Lena.add_layer(finish_marker)\n",
    "start=HTML()\n",
    "finish=HTML()\n",
    "start.value='Start'\n",
    "finish.value='End'\n",
    "start_marker.popup=start\n",
    "finish_marker.popup=finish\n",
    "zoom_slider=IntSlider(\n",
    "    description='Zoom',\n",
    "    min=11,\n",
    "    max=15,\n",
    "    value=14\n",
    ")\n",
    "#m = Map(center=(56.8, 35.8), zoom=11)\n",
    "jslink((zoom_slider,'value'),(map_Lena,'zoom'))\n",
    "#jslink((zoom_slider,'value'))"
   ]
  },
  {
   "cell_type": "code",
   "execution_count": 27,
   "metadata": {},
   "outputs": [
    {
     "data": {
      "application/vnd.jupyter.widget-view+json": {
       "model_id": "7c1cac958fc240ac98a79adad4725d7e",
       "version_major": 2,
       "version_minor": 0
      },
      "text/plain": [
       "Map(center=[60.85, 120.85], controls=(ZoomControl(options=['position', 'zoom_in_text', 'zoom_in_title', 'zoom_…"
      ]
     },
     "metadata": {},
     "output_type": "display_data"
    }
   ],
   "source": [
    "widget_control=WidgetControl(\n",
    "    widget=zoom_slider,\n",
    "    position='topright'\n",
    "\n",
    ")\n",
    "map_Lena.add_control(widget_control)\n",
    "display(map_Lena)"
   ]
  },
  {
   "cell_type": "code",
   "execution_count": 28,
   "metadata": {},
   "outputs": [
    {
     "name": "stdout",
     "output_type": "stream",
     "text": [
      "{(3041, 24): 1, (3041, 25): 1, (3041, 29): 1, (3030, 21): 2, (3030, 25): 4, (3030, 26): 3, (3030, 16): 2, (3030, 17): 2, (3030, 13): 1, (3030, 14): 2, (3030, 15): 1, (3030, 11): 1, (3030, 12): 1, (3030, 6): 1, (3030, 7): 1, (3030, 22): 3, (3030, 23): 3, (3030, 24): 4, (3030, 27): 4, (3030, 28): 3, (3030, 29): 3, (3030, 30): 1, (3030, 31): 1, (3030, 20): 1, (3230, 20): 1, (3230, 21): 1, (3230, 29): 3, (3230, 30): 3, (3230, 25): 3, (3230, 27): 2, (3230, 22): 1, (3230, 24): 2, (3230, 26): 2, (3230, 28): 1, (3230, 31): 2, (3230, 35): 1, (3230, 36): 1, (3045, 23): 2, (3045, 24): 2, (3045, 25): 2, (3045, 26): 1, (3045, 21): 1, (3045, 22): 1, (3045, 33): 1, (3045, 34): 1, (3045, 37): 2, (3045, 38): 1, (3045, 27): 1, (3045, 28): 1, (3045, 29): 1, (3028, 23): 1, (3028, 8): 1, (3028, 9): 1, (3028, 3): 1, (3028, 4): 1, (3028, 12): 1, (3028, 13): 1, (3028, 21): 2, (3028, 20): 2, (3029, 11): 1, (3029, 8): 1, (3029, 9): 1, (3029, 10): 1, (3029, 18): 1, (3029, 21): 3, (3029, 22): 1, (3029, 23): 2, (3029, 27): 1, (3029, 28): 1, (3029, 29): 1, (3029, 24): 1, (3050, 30): 1, (3050, 27): 1, (3050, 28): 2, (3050, 29): 2, (3050, 26): 1, (3050, 36): 1, (3035, 17): 2, (3035, 18): 1, (3035, 19): 1, (3035, 20): 1, (3035, 16): 1, (3035, 25): 1, (3027, 12): 1, (3027, 10): 1, (3027, 8): 1, (3027, 18): 1, (3027, 13): 1, (3027, 14): 1, (3027, 15): 1, (3027, 16): 1, (3027, 17): 1, (3027, 19): 1}\n"
     ]
    }
   ],
   "source": [
    "dict_item_day = {}\n",
    "station_id_list = main_df['station_id']; day_list = main_df['day'];ice_jam_list=main_df['ice_jam']\n",
    "for i in range(0,len(station_id_list)):\n",
    "  if ice_jam_list[i] == 0:\n",
    "    continue\n",
    "  #buff = str(station_id_list[i])+' '+str(day_list[i])\n",
    "  if (station_id_list[i],day_list[i]) in dict_item_day:\n",
    "    buf = dict_item_day[(station_id_list[i],day_list[i])]\n",
    "    dict_item_day[(station_id_list[i],day_list[i])] = buf +1\n",
    "  else:\n",
    "    dict_item_day[station_id_list[i],day_list[i]] = 1\n",
    "print(dict_item_day)"
   ]
  },
  {
   "cell_type": "code",
   "execution_count": 29,
   "metadata": {},
   "outputs": [
    {
     "data": {
      "text/plain": [
       "93"
      ]
     },
     "execution_count": 29,
     "metadata": {},
     "output_type": "execute_result"
    }
   ],
   "source": [
    "len(dict_item_day)"
   ]
  },
  {
   "cell_type": "code",
   "execution_count": 30,
   "metadata": {
    "scrolled": true
   },
   "outputs": [
    {
     "data": {
      "text/html": [
       "<div>\n",
       "<style scoped>\n",
       "    .dataframe tbody tr th:only-of-type {\n",
       "        vertical-align: middle;\n",
       "    }\n",
       "\n",
       "    .dataframe tbody tr th {\n",
       "        vertical-align: top;\n",
       "    }\n",
       "\n",
       "    .dataframe thead th {\n",
       "        text-align: right;\n",
       "    }\n",
       "</style>\n",
       "<table border=\"1\" class=\"dataframe\">\n",
       "  <thead>\n",
       "    <tr style=\"text-align: right;\">\n",
       "      <th></th>\n",
       "      <th>year</th>\n",
       "      <th>station_id</th>\n",
       "      <th>day</th>\n",
       "      <th>ice_jam</th>\n",
       "    </tr>\n",
       "  </thead>\n",
       "  <tbody>\n",
       "    <tr>\n",
       "      <th>0</th>\n",
       "      <td>2001</td>\n",
       "      <td>3019</td>\n",
       "      <td>0</td>\n",
       "      <td>NaN</td>\n",
       "    </tr>\n",
       "    <tr>\n",
       "      <th>1</th>\n",
       "      <td>2001</td>\n",
       "      <td>3019</td>\n",
       "      <td>1</td>\n",
       "      <td>NaN</td>\n",
       "    </tr>\n",
       "    <tr>\n",
       "      <th>2</th>\n",
       "      <td>2001</td>\n",
       "      <td>3019</td>\n",
       "      <td>2</td>\n",
       "      <td>NaN</td>\n",
       "    </tr>\n",
       "    <tr>\n",
       "      <th>3</th>\n",
       "      <td>2001</td>\n",
       "      <td>3019</td>\n",
       "      <td>3</td>\n",
       "      <td>NaN</td>\n",
       "    </tr>\n",
       "    <tr>\n",
       "      <th>4</th>\n",
       "      <td>2001</td>\n",
       "      <td>3019</td>\n",
       "      <td>4</td>\n",
       "      <td>NaN</td>\n",
       "    </tr>\n",
       "  </tbody>\n",
       "</table>\n",
       "</div>"
      ],
      "text/plain": [
       "   year  station_id  day  ice_jam\n",
       "0  2001        3019    0      NaN\n",
       "1  2001        3019    1      NaN\n",
       "2  2001        3019    2      NaN\n",
       "3  2001        3019    3      NaN\n",
       "4  2001        3019    4      NaN"
      ]
     },
     "execution_count": 30,
     "metadata": {},
     "output_type": "execute_result"
    }
   ],
   "source": [
    "#мы построили словарь в котором кортежу (станция, день), если в этот день на этой станции в трейне был затор, то там единица\n",
    "#будем проверять был ли хоть когда-нибудь затор для данной пары, если был 3 раза, то в предикт будем писать 1, иначе 0\n",
    "test_df = pd.read_csv(data_dir + 'test.csv')\n",
    "test_df.head()"
   ]
  },
  {
   "cell_type": "code",
   "execution_count": 31,
   "metadata": {},
   "outputs": [
    {
     "name": "stdout",
     "output_type": "stream",
     "text": [
      "[0, 0, 0, 0, 0, 0, 0, 0, 0, 0, 0, 0, 0, 0, 0, 0, 0, 0, 0, 0, 0, 0, 0, 0, 0, 0, 0, 0, 0, 0]\n"
     ]
    },
    {
     "data": {
      "text/html": [
       "<div>\n",
       "<style scoped>\n",
       "    .dataframe tbody tr th:only-of-type {\n",
       "        vertical-align: middle;\n",
       "    }\n",
       "\n",
       "    .dataframe tbody tr th {\n",
       "        vertical-align: top;\n",
       "    }\n",
       "\n",
       "    .dataframe thead th {\n",
       "        text-align: right;\n",
       "    }\n",
       "</style>\n",
       "<table border=\"1\" class=\"dataframe\">\n",
       "  <thead>\n",
       "    <tr style=\"text-align: right;\">\n",
       "      <th></th>\n",
       "      <th>year</th>\n",
       "      <th>station_id</th>\n",
       "      <th>day</th>\n",
       "      <th>ice_jam</th>\n",
       "    </tr>\n",
       "  </thead>\n",
       "  <tbody>\n",
       "    <tr>\n",
       "      <th>0</th>\n",
       "      <td>2001</td>\n",
       "      <td>3019</td>\n",
       "      <td>0</td>\n",
       "      <td>0</td>\n",
       "    </tr>\n",
       "    <tr>\n",
       "      <th>1</th>\n",
       "      <td>2001</td>\n",
       "      <td>3019</td>\n",
       "      <td>1</td>\n",
       "      <td>0</td>\n",
       "    </tr>\n",
       "    <tr>\n",
       "      <th>2</th>\n",
       "      <td>2001</td>\n",
       "      <td>3019</td>\n",
       "      <td>2</td>\n",
       "      <td>0</td>\n",
       "    </tr>\n",
       "    <tr>\n",
       "      <th>3</th>\n",
       "      <td>2001</td>\n",
       "      <td>3019</td>\n",
       "      <td>3</td>\n",
       "      <td>0</td>\n",
       "    </tr>\n",
       "    <tr>\n",
       "      <th>4</th>\n",
       "      <td>2001</td>\n",
       "      <td>3019</td>\n",
       "      <td>4</td>\n",
       "      <td>0</td>\n",
       "    </tr>\n",
       "    <tr>\n",
       "      <th>5</th>\n",
       "      <td>2001</td>\n",
       "      <td>3019</td>\n",
       "      <td>5</td>\n",
       "      <td>0</td>\n",
       "    </tr>\n",
       "    <tr>\n",
       "      <th>6</th>\n",
       "      <td>2001</td>\n",
       "      <td>3019</td>\n",
       "      <td>6</td>\n",
       "      <td>0</td>\n",
       "    </tr>\n",
       "    <tr>\n",
       "      <th>7</th>\n",
       "      <td>2001</td>\n",
       "      <td>3019</td>\n",
       "      <td>7</td>\n",
       "      <td>0</td>\n",
       "    </tr>\n",
       "    <tr>\n",
       "      <th>8</th>\n",
       "      <td>2001</td>\n",
       "      <td>3019</td>\n",
       "      <td>8</td>\n",
       "      <td>0</td>\n",
       "    </tr>\n",
       "    <tr>\n",
       "      <th>9</th>\n",
       "      <td>2001</td>\n",
       "      <td>3019</td>\n",
       "      <td>9</td>\n",
       "      <td>0</td>\n",
       "    </tr>\n",
       "  </tbody>\n",
       "</table>\n",
       "</div>"
      ],
      "text/plain": [
       "   year  station_id  day  ice_jam\n",
       "0  2001        3019    0        0\n",
       "1  2001        3019    1        0\n",
       "2  2001        3019    2        0\n",
       "3  2001        3019    3        0\n",
       "4  2001        3019    4        0\n",
       "5  2001        3019    5        0\n",
       "6  2001        3019    6        0\n",
       "7  2001        3019    7        0\n",
       "8  2001        3019    8        0\n",
       "9  2001        3019    9        0"
      ]
     },
     "execution_count": 31,
     "metadata": {},
     "output_type": "execute_result"
    }
   ],
   "source": [
    "test_station_list = test_df['station_id']; test_day_list = test_df['day']\n",
    "test_ice_jam_list = []  #list for our predictions\n",
    "for j in range(0,len(test_station_list)):\n",
    "\n",
    "  if (test_station_list[j],test_day_list[j]) in dict_item_day:\n",
    "    if dict_item_day[(test_station_list[j],test_day_list[j])] > 2:\n",
    "        test_ice_jam_list.append(1)\n",
    "    else:\n",
    "        test_ice_jam_list.append(0)\n",
    "  else:\n",
    "    test_ice_jam_list.append(0)\n",
    "print(test_ice_jam_list[:30])\n",
    "\n",
    "test_df['ice_jam'] = test_ice_jam_list\n",
    "test_df.head(10)"
   ]
  },
  {
   "cell_type": "code",
   "execution_count": 32,
   "metadata": {},
   "outputs": [
    {
     "data": {
      "text/plain": [
       "108"
      ]
     },
     "execution_count": 32,
     "metadata": {},
     "output_type": "execute_result"
    }
   ],
   "source": [
    "test_df['ice_jam'].sum()"
   ]
  },
  {
   "cell_type": "code",
   "execution_count": 33,
   "metadata": {},
   "outputs": [],
   "source": [
    "#let s save our prediction\n",
    "\n",
    "test_df.to_csv('sub03.csv',header=True,index=False)"
   ]
  },
  {
   "cell_type": "code",
   "execution_count": null,
   "metadata": {},
   "outputs": [],
   "source": []
  },
  {
   "cell_type": "code",
   "execution_count": null,
   "metadata": {},
   "outputs": [],
   "source": []
  }
 ],
 "metadata": {
  "colab": {
   "collapsed_sections": [],
   "name": "audithon_task4_ants032.ipynb",
   "provenance": []
  },
  "kernelspec": {
   "display_name": "Python 3",
   "language": "python",
   "name": "python3"
  },
  "language_info": {
   "codemirror_mode": {
    "name": "ipython",
    "version": 3
   },
   "file_extension": ".py",
   "mimetype": "text/x-python",
   "name": "python",
   "nbconvert_exporter": "python",
   "pygments_lexer": "ipython3",
   "version": "3.7.3"
  },
  "latex_envs": {
   "LaTeX_envs_menu_present": true,
   "autoclose": false,
   "autocomplete": true,
   "bibliofile": "biblio.bib",
   "cite_by": "apalike",
   "current_citInitial": 1,
   "eqLabelWithNumbers": true,
   "eqNumInitial": 1,
   "hotkeys": {
    "equation": "Ctrl-E",
    "itemize": "Ctrl-I"
   },
   "labels_anchors": false,
   "latex_user_defs": false,
   "report_style_numbering": false,
   "user_envs_cfg": false
  },
  "toc": {
   "base_numbering": 1,
   "nav_menu": {},
   "number_sections": true,
   "sideBar": true,
   "skip_h1_title": false,
   "title_cell": "Table of Contents",
   "title_sidebar": "Contents",
   "toc_cell": false,
   "toc_position": {},
   "toc_section_display": true,
   "toc_window_display": true
  },
  "widgets": {
   "application/vnd.jupyter.widget-state+json": {
    "a2b35cc1b17f4cc0a563aaf2d3e74026": {
     "model_module": "jupyter-leaflet",
     "model_name": "LeafletMapModel",
     "state": {
      "_dom_classes": [],
      "_model_module": "jupyter-leaflet",
      "_model_module_version": "^0.13.5",
      "_model_name": "LeafletMapModel",
      "_view_count": null,
      "_view_module": "jupyter-leaflet",
      "_view_module_version": "^0.13.5",
      "_view_name": "LeafletMapView",
      "bottom": 0,
      "bounce_at_zoom_limits": true,
      "box_zoom": true,
      "center": [
       56.8,
       35.8
      ],
      "close_popup_on_click": true,
      "controls": [
       "IPY_MODEL_e7af65c694f5480185e7d403ec0d9c91",
       "IPY_MODEL_5d02e29604ce4d97918e7f2ffcbd8ef0"
      ],
      "crs": {
       "custom": false,
       "name": "EPSG3857"
      },
      "default_style": "IPY_MODEL_d68ab396563640d4afd976ce094e3470",
      "double_click_zoom": true,
      "dragging": true,
      "dragging_style": "IPY_MODEL_332b05269ae04e57985684f1ff6d882c",
      "east": 0,
      "fullscreen": false,
      "inertia": true,
      "inertia_deceleration": 3000,
      "inertia_max_speed": 1500,
      "interpolation": "bilinear",
      "keyboard": true,
      "keyboard_pan_offset": 80,
      "keyboard_zoom_offset": 1,
      "layers": [
       "IPY_MODEL_1432bb8fd763480cb2fdc5cef4eec2f7",
       "IPY_MODEL_9a4d7d2ec469436ca5040093852fc035",
       "IPY_MODEL_79e66fd6402d4ed99d690568693eacea",
       "IPY_MODEL_bf4f4dc05fcc4284ae658c6800ba337d",
       "IPY_MODEL_25b4a46d673348d4921934e6c7c8010d",
       "IPY_MODEL_aed709ad25eb493c99ef870c615683c6",
       "IPY_MODEL_e42bb29083d3441ab787dd0f74d0e764",
       "IPY_MODEL_b09deb83bbd54ff6b4166f382a21f20a",
       "IPY_MODEL_7a000b68b32645b6a87480d46574c462",
       "IPY_MODEL_fa2f8abbfbc64954a02e6dc6c4078868",
       "IPY_MODEL_784fce9f573c4f88ad78e5d8b6f1c07c",
       "IPY_MODEL_099838188b1c41a3b453950a1a7c2211",
       "IPY_MODEL_7f7b6fc6f388415a84d40ba1d314be49",
       "IPY_MODEL_2870bb60a8a548f99881302137e34b63",
       "IPY_MODEL_eaba4388ea5348a69d3edf6f86d037ad",
       "IPY_MODEL_6b61b3905f294c919da5f82a56ffbaed",
       "IPY_MODEL_2f1aa9db22d94b61b96e01cf5dc1336b",
       "IPY_MODEL_5a52e2a6b514469fbad4fd5fe93b31b7",
       "IPY_MODEL_971a47aa7d0a44579613f673cffff24c",
       "IPY_MODEL_055b63ca81b243cabe1b9ccbd5cafdb3",
       "IPY_MODEL_49f8e86494aa4cd2801811ea13bd8c8a",
       "IPY_MODEL_02aa91ac537349f59828e0942cb9ee14",
       "IPY_MODEL_50f7ff0af6be4ffda3e21596c1651d9a",
       "IPY_MODEL_0505353c10404baba1210fc9191101d7",
       "IPY_MODEL_765ebf9ed62f43c38a2530949c8ed815",
       "IPY_MODEL_cda0ea4a58c44d3bb6f0d5a47ce18ff8",
       "IPY_MODEL_cb6a0ebf642247f386903db70368329b",
       "IPY_MODEL_0bb4319351a24a829337698e7ec22bdf",
       "IPY_MODEL_cc0eb1c6349a4f858e5f99d7a9f9950d",
       "IPY_MODEL_1d4a0e9054e440a7b508e5577d83a325",
       "IPY_MODEL_7e758f4a3aa740a69c49063bef0e0c0b",
       "IPY_MODEL_699326cddeb14deeac8f5bceca67bc6b",
       "IPY_MODEL_694f7afb4050450fb2e9393ea1f7f269",
       "IPY_MODEL_c9144a2e477f48379528adc6314dffde",
       "IPY_MODEL_308a1698b1724c529693b6176eb9bb69",
       "IPY_MODEL_19fefdb3d9264c029a323c3f0281174f",
       "IPY_MODEL_5a69ca7a73164ced8a1a7fcb32e83950",
       "IPY_MODEL_a6a489f2ebb3440ab94adbc42245c7e4",
       "IPY_MODEL_249411c2b3f049c499688bceda1e743c",
       "IPY_MODEL_93d979995bb2464880f28984f4b999a8",
       "IPY_MODEL_e6dac676e3d641dc9f5e50d6cf4dec30",
       "IPY_MODEL_8d44385eb9bf4be7b891f29838471ccd",
       "IPY_MODEL_8a939b8c2e294a04bc941a67b92894e3",
       "IPY_MODEL_20d381617f1f4434a62df48d4a9a4754",
       "IPY_MODEL_d5635a8d015f4f6a950d3fc77a946ef0",
       "IPY_MODEL_abd327a526d34d069d33e4846a27735c",
       "IPY_MODEL_40dbc3c73db64928a9a6ef2b48a3b6d4",
       "IPY_MODEL_ba04a249e93c4c15a7f2968984333c72",
       "IPY_MODEL_e55535ea51394840b4f2d81993504915",
       "IPY_MODEL_3681bb1052c74177b7b65dcc7f3720c8",
       "IPY_MODEL_8a2d747a623849b7b0b5b57cee9f387a",
       "IPY_MODEL_c6742bbce8f84c169324d6715a2e6103",
       "IPY_MODEL_0bbb580edf5e41b2bd4f35d8b298ff6a",
       "IPY_MODEL_22fbe702acc2470fbf7ba7d9aac3a957",
       "IPY_MODEL_f21d3b777d284c99815dcbb5dfa646df",
       "IPY_MODEL_99c60d56023d4de78c4fa7bc179234a1",
       "IPY_MODEL_54e1286b02fc414c881234a4f7ff2498",
       "IPY_MODEL_c249e8a1cc814089b417cdaa07291283",
       "IPY_MODEL_ea8c982ac3e14f829bc451749f4ca5ec",
       "IPY_MODEL_fd197c93173645d68421d806c8c2fc40",
       "IPY_MODEL_c77c87c693164c698ba02b4abc247e02",
       "IPY_MODEL_10fbc7b198fb4879954633522bfa7ef9",
       "IPY_MODEL_687294ed92c04d3fbe16ceabfff273c7",
       "IPY_MODEL_da1e9357fb9c45d9874834b96d84d6c4",
       "IPY_MODEL_c034fa0b85aa404fb1e37186318f0fb4",
       "IPY_MODEL_62b64dff8e48420fa601c106d992a27f",
       "IPY_MODEL_9d69b172965f4ffc81aa38036a079a10",
       "IPY_MODEL_49a554ab8afe401eb8a28ead4ec9b23b",
       "IPY_MODEL_b70e86be098541dcae3bf08e0040bf2b",
       "IPY_MODEL_746d34928ed8461cae807624156d2dff",
       "IPY_MODEL_8fc578095cf0460eaaef3c75ebfc49ca",
       "IPY_MODEL_0a54fea8368a44118b709ae9caa36075",
       "IPY_MODEL_806743ee1add47eab036c53279702878",
       "IPY_MODEL_2e81e8e4699f41e49f043293bc5566fa",
       "IPY_MODEL_a2b9b6c72e8446a2a900dc977aea88cb",
       "IPY_MODEL_91e9735b5af944d1b1f8f61a9e4d34f2",
       "IPY_MODEL_ebac77cdb0564861ad0342bab4b22746",
       "IPY_MODEL_aa601be242254a49825da5ba8e5d7b44",
       "IPY_MODEL_1b80e4e176bc472ab50900f2c6362de3",
       "IPY_MODEL_77f58679313644478359a3cfbb21fe84",
       "IPY_MODEL_3b399069c834495290d29fed0234830c",
       "IPY_MODEL_69c50933f5404575a08e03a2169c16d0",
       "IPY_MODEL_958b1672e4d84150aa3406609ebaebcc",
       "IPY_MODEL_b8a291a610e641eebdaed4962c90a2c9",
       "IPY_MODEL_d62ba2f006334947827da10db906e092",
       "IPY_MODEL_92994981759a4d02ada18630de71feb7",
       "IPY_MODEL_a15a1e8d8f5946f8844ea4c7bf4f1efb",
       "IPY_MODEL_f72d6e7e8f5b46f2a0cd2980c100debd",
       "IPY_MODEL_1313ec7c7c75413d90b31368ceaa19e2",
       "IPY_MODEL_e9975166513f418997b74d1a74b180bf",
       "IPY_MODEL_29a939ec22df4a9daefb1214eb72c7bf",
       "IPY_MODEL_86e6eb6175b348f481d8b3245caad9b0",
       "IPY_MODEL_d633642c8eb147808b2a64d46c385d5c",
       "IPY_MODEL_7bad8d9947a247dd84bba786c43ce529",
       "IPY_MODEL_5894ba6790994956bdbb8bccc5757694",
       "IPY_MODEL_6995193b3d944f81b31620136900bb6a",
       "IPY_MODEL_5a46515101cc415db19e50f3da6f97f3",
       "IPY_MODEL_c5838f0650eb402b848e486e093e5d4e",
       "IPY_MODEL_3a2aad5f37124181abcc9c7d3d393bfd",
       "IPY_MODEL_ad80fa01c5a14e2084a7519d376f1cfd",
       "IPY_MODEL_908d624816494390879543b677a6cf67",
       "IPY_MODEL_0bc9d69c346c46958490a98426c3b893",
       "IPY_MODEL_8cc96c0253bd47ecb6359250681338fb",
       "IPY_MODEL_308d2261e0d84feabf7d7d7bf33d5164"
      ],
      "layout": "IPY_MODEL_75c11037e6dc41be8066edc0eef08daa",
      "left": 9007199254740991,
      "max_zoom": 18,
      "min_zoom": 1,
      "modisdate": "yesterday",
      "north": 0,
      "options": [
       "bounce_at_zoom_limits",
       "box_zoom",
       "center",
       "close_popup_on_click",
       "double_click_zoom",
       "dragging",
       "fullscreen",
       "inertia",
       "inertia_deceleration",
       "inertia_max_speed",
       "interpolation",
       "keyboard",
       "keyboard_pan_offset",
       "keyboard_zoom_offset",
       "max_zoom",
       "min_zoom",
       "scroll_wheel_zoom",
       "tap",
       "tap_tolerance",
       "touch_zoom",
       "world_copy_jump",
       "zoom",
       "zoom_animation_threshold",
       "zoom_delta",
       "zoom_snap",
       "zoom_start"
      ],
      "right": 0,
      "scroll_wheel_zoom": false,
      "south": 0,
      "style": "IPY_MODEL_9c2a3fdbe2f44b01b2cb8402ee5f7b28",
      "tap": true,
      "tap_tolerance": 15,
      "top": 9007199254740991,
      "touch_zoom": true,
      "west": 0,
      "window_url": "",
      "world_copy_jump": false,
      "zoom": 11,
      "zoom_animation_threshold": 4,
      "zoom_delta": 1,
      "zoom_snap": 1,
      "zoom_start": 12
     }
    },
    "f3d9ea60db9e45388b0d4f7f0bfacc33": {
     "model_module": "jupyter-leaflet",
     "model_name": "LeafletMapModel",
     "state": {
      "_dom_classes": [],
      "_model_module": "jupyter-leaflet",
      "_model_module_version": "^0.13.5",
      "_model_name": "LeafletMapModel",
      "_view_count": null,
      "_view_module": "jupyter-leaflet",
      "_view_module_version": "^0.13.5",
      "_view_name": "LeafletMapView",
      "bottom": 0,
      "bounce_at_zoom_limits": true,
      "box_zoom": true,
      "center": [
       56.8,
       35.8
      ],
      "close_popup_on_click": true,
      "controls": [
       "IPY_MODEL_a79eceddca684cadbef4bfec6d6c5879",
       "IPY_MODEL_8ef9096b59c742979564ab932b12206c",
       "IPY_MODEL_45170dabd3194c5e92073af5dc27e58c"
      ],
      "crs": {
       "custom": false,
       "name": "EPSG3857"
      },
      "default_style": "IPY_MODEL_0b291aebdf2e4249937ef8b54d985d1a",
      "double_click_zoom": true,
      "dragging": true,
      "dragging_style": "IPY_MODEL_ef810263802c4b978cd12c776337ae02",
      "east": 0,
      "fullscreen": false,
      "inertia": true,
      "inertia_deceleration": 3000,
      "inertia_max_speed": 1500,
      "interpolation": "bilinear",
      "keyboard": true,
      "keyboard_pan_offset": 80,
      "keyboard_zoom_offset": 1,
      "layers": [
       "IPY_MODEL_9624a09e2f8c454a93c858272653a4e2",
       "IPY_MODEL_005e3d35b1db4c149d40ffe1ce9d8fef",
       "IPY_MODEL_9a83bee27aef47a6bbc8eca6d525ba54",
       "IPY_MODEL_4603402412524179a49146bace220ac9"
      ],
      "layout": "IPY_MODEL_28d4768858c44f04a99f5d1f9e945b79",
      "left": 9007199254740991,
      "max_zoom": 18,
      "min_zoom": 1,
      "modisdate": "yesterday",
      "north": 0,
      "options": [
       "bounce_at_zoom_limits",
       "box_zoom",
       "center",
       "close_popup_on_click",
       "double_click_zoom",
       "dragging",
       "fullscreen",
       "inertia",
       "inertia_deceleration",
       "inertia_max_speed",
       "interpolation",
       "keyboard",
       "keyboard_pan_offset",
       "keyboard_zoom_offset",
       "max_zoom",
       "min_zoom",
       "scroll_wheel_zoom",
       "tap",
       "tap_tolerance",
       "touch_zoom",
       "world_copy_jump",
       "zoom",
       "zoom_animation_threshold",
       "zoom_delta",
       "zoom_snap",
       "zoom_start"
      ],
      "right": 0,
      "scroll_wheel_zoom": false,
      "south": 0,
      "style": "IPY_MODEL_a8166e6827134b99be67e4008fcb3e63",
      "tap": true,
      "tap_tolerance": 15,
      "top": 9007199254740991,
      "touch_zoom": true,
      "west": 0,
      "window_url": "",
      "world_copy_jump": false,
      "zoom": 13,
      "zoom_animation_threshold": 4,
      "zoom_delta": 1,
      "zoom_snap": 1,
      "zoom_start": 12
     }
    }
   }
  }
 },
 "nbformat": 4,
 "nbformat_minor": 4
}
